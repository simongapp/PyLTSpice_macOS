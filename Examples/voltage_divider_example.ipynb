{
 "cells": [
  {
   "cell_type": "code",
   "execution_count": null,
   "metadata": {},
   "outputs": [],
   "source": [
    "import sys\n",
    "sys.path.append('../')\n",
    "\n",
    "import PyLTSpice_macOS as LTC\n",
    "\n",
    "from matplotlib import pyplot as plt\n",
    "import numpy as np\n",
    "\n",
    "import DebugHelpers as debug"
   ]
  },
  {
   "cell_type": "markdown",
   "metadata": {},
   "source": [
    "# Create a voltage divider object"
   ]
  },
  {
   "cell_type": "code",
   "execution_count": null,
   "metadata": {},
   "outputs": [],
   "source": [
    "volt_div = LTC.LTC('voltage_divider.asc')"
   ]
  },
  {
   "cell_type": "markdown",
   "metadata": {},
   "source": [
    "# Plot schematic"
   ]
  },
  {
   "cell_type": "code",
   "execution_count": null,
   "metadata": {},
   "outputs": [],
   "source": [
    "volt_div.schematic.plot_schematic()"
   ]
  },
  {
   "cell_type": "markdown",
   "metadata": {},
   "source": [
    "# Plot simulation results"
   ]
  },
  {
   "cell_type": "code",
   "execution_count": null,
   "metadata": {},
   "outputs": [],
   "source": [
    "data_input = volt_div.get_trace_data('V(input)')\n",
    "data_output = volt_div.get_trace_data('V(output)')\n",
    "\n",
    "# Time is sometimes not read out correctly. It safer to take the absolute value of time\n",
    "time = np.abs(volt_div.get_trace_data('time'))\n",
    "\n",
    "plt.figure(figsize=(20,10))\n",
    "plt.plot(time, data_input, label='Input')\n",
    "plt.plot(time, data_output, label='Output')\n",
    "plt.xlabel('Time in s')\n",
    "plt.ylabel('Amplitude in V')\n",
    "plt.grid(True, which='both')\n",
    "plt.legend()\n",
    "plt.show()"
   ]
  },
  {
   "cell_type": "markdown",
   "metadata": {},
   "source": [
    "### As an example let's find the value for R2 so we can reach +3.3V as an output voltage"
   ]
  },
  {
   "cell_type": "code",
   "execution_count": null,
   "metadata": {},
   "outputs": [],
   "source": [
    "target_value = 3.3\n",
    "\n",
    "for i in range(9,0,-1):\n",
    "    r2_value = str(i)+'k'\n",
    "    \n",
    "    volt_div.change_component('R2', r2_value)\n",
    "    volt_div.update()\n",
    "    \n",
    "    data_output = volt_div.get_trace_data('V(output)')\n",
    "    print(r2_value)\n",
    "    print(np.round(np.mean(data_output), 2))\n",
    "    if(np.round(np.mean(data_output),2) <= target_value):\n",
    "        print('Output voltage: ' + str(np.mean(data_output)))\n",
    "        print('R2 value: ' + r2_value)\n",
    "        break;\n"
   ]
  },
  {
   "cell_type": "code",
   "execution_count": null,
   "metadata": {},
   "outputs": [],
   "source": []
  }
 ],
 "metadata": {
  "kernelspec": {
   "display_name": "Python 3",
   "language": "python",
   "name": "python3"
  },
  "language_info": {
   "codemirror_mode": {
    "name": "ipython",
    "version": 3
   },
   "file_extension": ".py",
   "mimetype": "text/x-python",
   "name": "python",
   "nbconvert_exporter": "python",
   "pygments_lexer": "ipython3",
   "version": "3.8.3"
  }
 },
 "nbformat": 4,
 "nbformat_minor": 4
}
