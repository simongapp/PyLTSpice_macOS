{
 "cells": [
  {
   "cell_type": "code",
   "execution_count": null,
   "metadata": {},
   "outputs": [],
   "source": [
    "import sys\n",
    "sys.path.append('../')\n",
    "\n",
    "import PyLTSpice_macOS as LTC\n",
    "\n",
    "from matplotlib import pyplot as plt\n",
    "import numpy as np\n",
    "\n",
    "import DebugHelpers as debug"
   ]
  },
  {
   "cell_type": "markdown",
   "metadata": {},
   "source": [
    "# Create amplifier object"
   ]
  },
  {
   "cell_type": "code",
   "execution_count": null,
   "metadata": {},
   "outputs": [],
   "source": [
    "amplifier = LTC.LTC('amplifier.asc')"
   ]
  },
  {
   "cell_type": "markdown",
   "metadata": {},
   "source": [
    "# Plot schematic"
   ]
  },
  {
   "cell_type": "code",
   "execution_count": null,
   "metadata": {},
   "outputs": [],
   "source": [
    "amplifier.schematic.plot_schematic()"
   ]
  },
  {
   "cell_type": "markdown",
   "metadata": {},
   "source": [
    "# Plot simulation results"
   ]
  },
  {
   "cell_type": "code",
   "execution_count": null,
   "metadata": {},
   "outputs": [],
   "source": [
    "data_vin = amplifier.get_trace_data('V(vin)')\n",
    "data_vout = amplifier.get_trace_data('V(vout)')\n",
    "# time is sometimes not read out correctly but this can be fixed by using the absolute value\n",
    "time = np.abs(amplifier.get_trace_data('time'))\n",
    "\n",
    "print('Max. amplitude Vout: ' + str(np.max(data_vout)))\n",
    "print('Min. amplitude Vout: ' + str(np.min(data_vout)))\n",
    "\n",
    "plt.figure(figsize=(20,10))\n",
    "plt.plot(time, data_vin, label='Vin')\n",
    "plt.plot(time, data_vout, label='Vout')\n",
    "plt.ylabel('Amplitude in V')\n",
    "plt.xlabel('Time in s')\n",
    "plt.grid(True, which='both')\n",
    "plt.legend()\n",
    "plt.show()"
   ]
  },
  {
   "cell_type": "markdown",
   "metadata": {},
   "source": [
    "### As you can see, the output amplitude is clipped. We can increase Vcc to cover greater amplitudes"
   ]
  },
  {
   "cell_type": "code",
   "execution_count": null,
   "metadata": {},
   "outputs": [],
   "source": [
    "amplifier.change_component('V1', '25')\n",
    "amplifier.update()"
   ]
  },
  {
   "cell_type": "code",
   "execution_count": null,
   "metadata": {},
   "outputs": [],
   "source": [
    "data_vin = amplifier.get_trace_data('V(vin)')\n",
    "data_vout = amplifier.get_trace_data('V(vout)')\n",
    "# time is sometimes not read out correctly but this can be fixed by using the absolute value\n",
    "time = np.abs(amplifier.get_trace_data('time'))\n",
    "\n",
    "print('Max. amplitude Vout: ' + str(np.max(data_vout)))\n",
    "print('Min. amplitude Vout: ' + str(np.min(data_vout)))\n",
    "\n",
    "\n",
    "plt.figure(figsize=(20,10))\n",
    "plt.plot(time, data_vin, label='Vin')\n",
    "plt.plot(time, data_vout, label='Vout')\n",
    "plt.ylabel('Amplitude in V')\n",
    "plt.xlabel('Tim in s')\n",
    "plt.grid(True, which='both')\n",
    "plt.legend()\n",
    "plt.show()"
   ]
  },
  {
   "cell_type": "markdown",
   "metadata": {},
   "source": [
    "# Or plot time based results with a wrapper"
   ]
  },
  {
   "cell_type": "code",
   "execution_count": null,
   "metadata": {},
   "outputs": [],
   "source": [
    "debug.show_results(amplifier, 'vin', 'vout')"
   ]
  },
  {
   "cell_type": "code",
   "execution_count": null,
   "metadata": {},
   "outputs": [],
   "source": []
  }
 ],
 "metadata": {
  "kernelspec": {
   "display_name": "Python 3",
   "language": "python",
   "name": "python3"
  },
  "language_info": {
   "codemirror_mode": {
    "name": "ipython",
    "version": 3
   },
   "file_extension": ".py",
   "mimetype": "text/x-python",
   "name": "python",
   "nbconvert_exporter": "python",
   "pygments_lexer": "ipython3",
   "version": "3.8.3"
  }
 },
 "nbformat": 4,
 "nbformat_minor": 4
}
